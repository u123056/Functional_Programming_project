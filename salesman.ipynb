{
 "cells": [
  {
   "cell_type": "markdown",
   "metadata": {},
   "source": [
    "# Подключение библиотек"
   ]
  },
  {
   "cell_type": "code",
   "execution_count": 6,
   "metadata": {},
   "outputs": [],
   "source": [
    "import numpy as np\n",
    "import itertools\n",
    "import random\n",
    "import sys"
   ]
  },
  {
   "cell_type": "markdown",
   "metadata": {},
   "source": [
    "# Задание параметров"
   ]
  },
  {
   "cell_type": "code",
   "execution_count": 7,
   "metadata": {},
   "outputs": [],
   "source": [
    "a = 3;#ширина прохода\n",
    "b = 1.5;#расстояние между полками\n",
    "k = 1000;#количество ячеек на стеллаже\n",
    "n = 20;#количество стеллажей\n",
    "l = 1;#ширина стеллажа\n",
    "x = 0.3;#ширина ячейки\n",
    "N = 5;#количество товаров в заказе"
   ]
  },
  {
   "cell_type": "markdown",
   "metadata": {},
   "source": [
    "# Список заказов"
   ]
  },
  {
   "cell_type": "code",
   "execution_count": 8,
   "metadata": {},
   "outputs": [
    {
     "name": "stdout",
     "output_type": "stream",
     "text": [
      "[[   1 1001]\n",
      " [   6 1167]\n",
      " [  20 1500]\n",
      " [  21  986]\n",
      " [  16 1702]\n",
      " [  21 1677]]\n"
     ]
    }
   ],
   "source": [
    "vertex_ryadi=np.random.randint(1,2*n,N)\n",
    "vertex_ryadi=np.append(vertex_ryadi[::-1],1)[::-1]\n",
    "vertex_yacheyki=np.random.randint(1,2*k,N)\n",
    "vertex_yacheyki=np.append(vertex_yacheyki[::-1],k+1)[::-1]\n",
    "v=np.column_stack((vertex_ryadi,vertex_yacheyki))\n",
    "print(v)"
   ]
  },
  {
   "cell_type": "markdown",
   "metadata": {},
   "source": [
    "# Создание матрицы"
   ]
  },
  {
   "cell_type": "code",
   "execution_count": 9,
   "metadata": {},
   "outputs": [],
   "source": [
    "M=np.zeros((N+1,N+1))\n",
    "for i in range(N+1):\n",
    "    for j in range(i,N+1):\n",
    "        s=0;\n",
    "        if (i==j):\n",
    "            M[i][j]=0;\n",
    "        else:\n",
    "            # если мы на входе, то отдельно рассчитываем\n",
    "            if i==1:\n",
    "                s=s+b;\n",
    "                if(v[j][1]>k):\n",
    "                    s=s+a/2;\n",
    "                else:\n",
    "                    s=s-a/2;\n",
    "            if j==1:\n",
    "                s=s+b;\n",
    "                if(v[i][1]>k):\n",
    "                    s=s+a/2;\n",
    "                else:\n",
    "                    s=s-a/2;\n",
    "            # Рассматриваем различные случаи: сверху или снизу, четный или нечётный ряд\n",
    "            if (v[i][0] % 2 == v[j][0] % 2):\n",
    "                s=s+abs(v[i][0]-v[j][0])/2*(l+b);\n",
    "            else:\n",
    "                s=s+b+abs(v[i][0]-v[j][0]-1)/2*(l+b);    \n",
    "            if (v[i][1]>k) and (v[j][1]>k):\n",
    "                s=s+min(v[i][1]-k+v[j][1]-k, 2*k-v[i][1]+2*k-v[j][1])*x\n",
    "            else:\n",
    "                if (v[i][1]<k) and (v[j][1]<k):\n",
    "                    s=s+min(v[i][1]+v[j][1], k-v[i][1]+k-v[j][1])*x\n",
    "                else:\n",
    "                    s=s+abs(v[i][1]-v[j][1])*x;\n",
    "            M[i][j]=s\n",
    "            M[j][i]=s"
   ]
  },
  {
   "cell_type": "code",
   "execution_count": 10,
   "metadata": {},
   "outputs": [
    {
     "name": "stdout",
     "output_type": "stream",
     "text": [
      "[[  0.   62.4 176.8  29.5 232.4 228.4]\n",
      " [ 62.4   0.  220.6  75.8 276.2 277.7]\n",
      " [176.8 220.6   0.  158.2 244.4 250.9]\n",
      " [ 29.5  75.8 158.2   0.  221.3 207.3]\n",
      " [232.4 276.2 244.4 221.3   0.  195.3]\n",
      " [228.4 277.7 250.9 207.3 195.3   0. ]]\n"
     ]
    }
   ],
   "source": [
    "print(M)"
   ]
  },
  {
   "cell_type": "markdown",
   "metadata": {},
   "source": [
    "# Алгоритм Хелда-Карпа"
   ]
  },
  {
   "cell_type": "code",
   "execution_count": 11,
   "metadata": {},
   "outputs": [],
   "source": [
    "def held_karp(dists):\n",
    "    n = len(dists)\n",
    "    # Мэпим каждый набор вершин с путём, который нужно пройти до этого подмножества, а также с предыдущей вершиной. \n",
    "    # Наборы вершин представлены битами\n",
    "    C = {}\n",
    "    # Задаём пути до каждой вершины из первой вершины\n",
    "    for k in range(1, n):\n",
    "        C[(1 << k, k)] = (dists[0][k], 0)\n",
    "    # Проходим по всем длинам и наборам и запоминаем промежуточные результаты\n",
    "    for subset_size in range(2, n):\n",
    "        for subset in itertools.combinations(range(1, n), subset_size):\n",
    "            # Задаём биты для всех вершин в наборе\n",
    "            bits = 0\n",
    "            for bit in subset:\n",
    "                bits |= 1 << bit\n",
    "            # Ищем наименьший путь, чтобы добраться до набора\n",
    "            for k in subset:\n",
    "                prev = bits & ~(1 << k)\n",
    "                res = []\n",
    "                for m in subset:\n",
    "                    if m == 0 or m == k:\n",
    "                        continue\n",
    "                    res.append((C[(prev, m)][0] + dists[m][k], m))\n",
    "                C[(bits, k)] = min(res)\n",
    "    bits = (2**n - 1) - 1\n",
    "    # Ищем наименьший путь\n",
    "    res = []\n",
    "    for k in range(1, n):\n",
    "        res.append((C[(bits, k)][0] + dists[k][0], k))\n",
    "    opt, parent = min(res)\n",
    "    # Движемся в обратном направлении, чтобы восстановить весь путь\n",
    "    path = []\n",
    "    for i in range(n - 1):\n",
    "        path.append(parent)\n",
    "        new_bits = bits & ~(1 << parent)\n",
    "        _, parent = C[(bits, parent)]\n",
    "        bits = new_bits\n",
    "    # Добавляем начальную вершину\n",
    "    path.append(0)\n",
    "    path=list(reversed(path))\n",
    "    path.append(0)\n",
    "    return opt, path"
   ]
  },
  {
   "cell_type": "code",
   "execution_count": 12,
   "metadata": {},
   "outputs": [],
   "source": [
    "dists=M\n",
    "dist, zakazi = held_karp(dists)"
   ]
  },
  {
   "cell_type": "code",
   "execution_count": 13,
   "metadata": {},
   "outputs": [
    {
     "name": "stdout",
     "output_type": "stream",
     "text": [
      "[0, 1, 2, 4, 5, 3, 0]\n"
     ]
    }
   ],
   "source": [
    "print(zakazi)"
   ]
  },
  {
   "cell_type": "code",
   "execution_count": 14,
   "metadata": {},
   "outputs": [
    {
     "name": "stdout",
     "output_type": "stream",
     "text": [
      "959.4999999999999\n"
     ]
    }
   ],
   "source": [
    "print(dist)"
   ]
  },
  {
   "cell_type": "markdown",
   "metadata": {},
   "source": [
    "# Проверка работы алгоритма"
   ]
  },
  {
   "cell_type": "code",
   "execution_count": 15,
   "metadata": {},
   "outputs": [
    {
     "name": "stdout",
     "output_type": "stream",
     "text": [
      "959.4999999999999\n"
     ]
    }
   ],
   "source": [
    "s=0;\n",
    "for i in range(0,len(zakazi)-1):\n",
    "    s=s+M[zakazi[i]][zakazi[i+1]]\n",
    "print(s) "
   ]
  },
  {
   "cell_type": "code",
   "execution_count": 17,
   "metadata": {},
   "outputs": [
    {
     "name": "stdout",
     "output_type": "stream",
     "text": [
      "[[  0.   62.4 176.8  29.5 232.4 228.4]\n",
      " [ 62.4   0.  220.6  75.8 276.2 277.7]\n",
      " [176.8 220.6   0.  158.2 244.4 250.9]\n",
      " [ 29.5  75.8 158.2   0.  221.3 207.3]\n",
      " [232.4 276.2 244.4 221.3   0.  195.3]\n",
      " [228.4 277.7 250.9 207.3 195.3   0. ]]\n"
     ]
    }
   ],
   "source": [
    "print(M)"
   ]
  },
  {
   "cell_type": "markdown",
   "metadata": {},
   "source": [
    "# Подготовка данных к полному перебору"
   ]
  },
  {
   "cell_type": "code",
   "execution_count": 18,
   "metadata": {},
   "outputs": [
    {
     "name": "stdout",
     "output_type": "stream",
     "text": [
      "6\n",
      "[1, 2, 3, 4, 5]\n"
     ]
    }
   ],
   "source": [
    "print(len(M))\n",
    "Vert=[]\n",
    "for i in range(1,N+1):\n",
    "    Vert.append(i)\n",
    "print(Vert)\n",
    "temp=list(itertools.permutations(Vert))\n",
    "routes=[]\n",
    "for i in temp:\n",
    "    routes.append(list(i))\n",
    "for i in routes:\n",
    "    i.append(0)\n",
    "    i.insert(0,0)"
   ]
  },
  {
   "cell_type": "markdown",
   "metadata": {},
   "source": [
    "# Полный перебор"
   ]
  },
  {
   "cell_type": "code",
   "execution_count": 19,
   "metadata": {},
   "outputs": [
    {
     "name": "stdout",
     "output_type": "stream",
     "text": [
      "959.4999999999999 [0, 1, 2, 4, 5, 3, 0]\n"
     ]
    }
   ],
   "source": [
    "min_cost=0\n",
    "min_route=routes[0]\n",
    "for j in range(0,len(routes[0])-1):\n",
    "    min_cost+=M[routes[0][j]][routes[0][j+1]]\n",
    "for i in routes:\n",
    "    cost=0;\n",
    "    for j in range(0,len(i)-1):\n",
    "        cost+=M[i[j]][i[j+1]]\n",
    "    if(cost<min_cost):\n",
    "        min_cost=cost;\n",
    "        min_route=i;\n",
    "print(min_cost, min_route)"
   ]
  }
 ],
 "metadata": {
  "kernelspec": {
   "display_name": "Python 3",
   "language": "python",
   "name": "python3"
  },
  "language_info": {
   "codemirror_mode": {
    "name": "ipython",
    "version": 3
   },
   "file_extension": ".py",
   "mimetype": "text/x-python",
   "name": "python",
   "nbconvert_exporter": "python",
   "pygments_lexer": "ipython3",
   "version": "3.8.3"
  }
 },
 "nbformat": 4,
 "nbformat_minor": 4
}
