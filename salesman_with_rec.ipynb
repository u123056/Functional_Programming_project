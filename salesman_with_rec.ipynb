{
 "cells": [
  {
   "cell_type": "markdown",
   "metadata": {},
   "source": [
    "# Подключение библиотек"
   ]
  },
  {
   "cell_type": "code",
   "execution_count": 169,
   "metadata": {},
   "outputs": [],
   "source": [
    "import numpy as np\n",
    "import itertools\n",
    "import random\n",
    "import sys"
   ]
  },
  {
   "cell_type": "markdown",
   "metadata": {},
   "source": [
    "# Задание параметров"
   ]
  },
  {
   "cell_type": "code",
   "execution_count": 170,
   "metadata": {},
   "outputs": [],
   "source": [
    "a = 3;#ширина прохода\n",
    "b = 1.5;#расстояние между полками\n",
    "k = 1000;#количество ячеек на стеллаже\n",
    "n = 20;#количество стеллажей\n",
    "l = 1;#ширина стеллажа\n",
    "x = 0.3;#ширина ячейки\n",
    "N = 5;#количество товаров в заказе"
   ]
  },
  {
   "cell_type": "markdown",
   "metadata": {},
   "source": [
    "# Список заказов"
   ]
  },
  {
   "cell_type": "code",
   "execution_count": 171,
   "metadata": {},
   "outputs": [
    {
     "name": "stdout",
     "output_type": "stream",
     "text": [
      "[[   1 1001]\n",
      " [  21  722]\n",
      " [  14   52]\n",
      " [  12 1803]\n",
      " [  33 1642]\n",
      " [   4   17]]\n"
     ]
    }
   ],
   "source": [
    "vertex_ryadi=np.random.randint(1,2*n,N)\n",
    "vertex_ryadi=np.append(vertex_ryadi[::-1],1)[::-1]\n",
    "vertex_yacheyki=np.random.randint(1,2*k,N)\n",
    "vertex_yacheyki=np.append(vertex_yacheyki[::-1],k+1)[::-1]\n",
    "v=np.column_stack((vertex_ryadi,vertex_yacheyki))\n",
    "print(v)"
   ]
  },
  {
   "cell_type": "markdown",
   "metadata": {},
   "source": [
    "# Создание матрицы"
   ]
  },
  {
   "cell_type": "code",
   "execution_count": 172,
   "metadata": {},
   "outputs": [],
   "source": [
    "M=np.zeros((N+1,N+1))\n",
    "for i in range(N+1):\n",
    "    for j in range(N+1):\n",
    "        s=0;\n",
    "        if (i==j):\n",
    "            M[i][j]=0;\n",
    "        else:\n",
    "            # если мы на входе, то отдельно рассчитываем\n",
    "            if i==1:\n",
    "                s=s+b;\n",
    "                if(v[j][1]>k):\n",
    "                    s=s+a/2;\n",
    "                else:\n",
    "                    s=s-a/2;\n",
    "            if j==1:\n",
    "                s=s+b;\n",
    "                if(v[i][1]>k):\n",
    "                    s=s+a/2;\n",
    "                else:\n",
    "                    s=s-a/2;\n",
    "            # Рассматриваем различные случаи: сверху или снизу, четный или нечётный ряд\n",
    "            if (v[i][0] % 2 == v[j][0] % 2):\n",
    "                s=s+abs(v[i][0]-v[j][0])/2*(l+b);\n",
    "            else:\n",
    "                s=s+b+abs(v[i][0]-v[j][0])/2*(l+b);    \n",
    "            if (v[i][1]>k) and (v[j][1]>k):\n",
    "                s=s+min(v[i][1]-k+v[j][1]-k, 2*k-v[i][1]+2*k-v[j][1])*x\n",
    "            else:\n",
    "                if (v[i][1]<k) and (v[j][1]<k):\n",
    "                    s=s+min(v[i][1]+v[j][1], k-v[i][1]+k-v[j][1])*x\n",
    "                else:\n",
    "                    s=s+abs(v[i][1]-v[j][1])*x;\n",
    "            M[i][j]=s"
   ]
  },
  {
   "cell_type": "code",
   "execution_count": 188,
   "metadata": {},
   "outputs": [],
   "source": [
    "def distance1(N,i,j,v):\n",
    "    if j==1:\n",
    "        if(v[i][1]>k):\n",
    "            return b+a/2+rasst1(N,i,j,v)\n",
    "        else:\n",
    "            return b-a/2+rasst1(N,i,j,v)\n",
    "    else:\n",
    "        return rasst1(N,i,j,v)\n",
    "def rasst1(N,i,j,v):\n",
    "            if (v[i][0] % 2 == v[j][0] % 2):\n",
    "                return abs(v[i][0]-v[j][0])/2*(l+b)+rasst2(N,i,j,v);\n",
    "            else:\n",
    "                return b+abs(v[i][0]-v[j][0])/2*(l+b)+rasst2(N,i,j,v);  \n",
    "def rasst2(N,i,j,v):\n",
    "            if (v[i][1]>k) and (v[j][1]>k):\n",
    "                return min(v[i][1]-k+v[j][1]-k, 2*k-v[i][1]+2*k-v[j][1])*x\n",
    "            else:\n",
    "                if (v[i][1]<k) and (v[j][1]<k):\n",
    "                    return min(v[i][1]+v[j][1], k-v[i][1]+k-v[j][1])*x\n",
    "                else:\n",
    "                    return abs(v[i][1]-v[j][1])*x;\n",
    "def create_line(N,i,j,v):\n",
    "    if(j<N):\n",
    "        if i==j:\n",
    "            return [0] +create_line(N,i,j+1,v)\n",
    "        if i==1:\n",
    "            if(v[j][1]>k):\n",
    "                return [b+a/2+distance1(N,i,j,v)]+create_line(N,i,j+1,v)\n",
    "            else:\n",
    "                return [b-a/2+distance1(N,i,j,v)]+create_line(N,i,j+1,v)\n",
    "        else:\n",
    "            return [distance1(N,i,j,v)]+create_line(N,i,j+1,v)\n",
    "    if (j==N):\n",
    "        if i==j:\n",
    "            return [0]\n",
    "        if i==1:\n",
    "            if(v[j][1]>k):\n",
    "                return [b+a/2+distance1(N,i,j,v)]\n",
    "            else:\n",
    "                return [b-a/2+distance1(N,i,j,v)]\n",
    "        else:\n",
    "            return [distance1(N,i,j,v)]\n",
    "def create_matrix(N,i,v):\n",
    "    if(i<N):\n",
    "        return [create_line(N,i,0,v)]+create_matrix(N,i+1,v)\n",
    "    else:\n",
    "        return [create_line(N,i,0,v)]"
   ]
  },
  {
   "cell_type": "code",
   "execution_count": 189,
   "metadata": {},
   "outputs": [],
   "source": [
    "M1=create_matrix(N,0,v)"
   ]
  },
  {
   "cell_type": "code",
   "execution_count": 190,
   "metadata": {},
   "outputs": [
    {
     "name": "stdout",
     "output_type": "stream",
     "text": [
      "[[0, 111.7, 302.45, 256.45, 232.9, 300.45], [111.7, 0, 242.45, 340.05, 294.0, 244.45], [302.45, 242.45, 0, 527.8, 502.25, 33.2], [256.45, 340.05, 527.8, 0, 194.25, 545.8], [232.9, 294.0, 502.25, 194.25, 0, 525.25], [300.45, 244.45, 33.2, 545.8, 525.25, 0]]\n"
     ]
    }
   ],
   "source": [
    "print(M1)"
   ]
  },
  {
   "cell_type": "code",
   "execution_count": 191,
   "metadata": {},
   "outputs": [
    {
     "name": "stdout",
     "output_type": "stream",
     "text": [
      "[[  0.   111.7  302.45 256.45 232.9  300.45]\n",
      " [111.7    0.   242.45 340.05 294.   244.45]\n",
      " [302.45 242.45   0.   527.8  502.25  33.2 ]\n",
      " [256.45 340.05 527.8    0.   194.25 545.8 ]\n",
      " [232.9  294.   502.25 194.25   0.   525.25]\n",
      " [300.45 244.45  33.2  545.8  525.25   0.  ]]\n"
     ]
    }
   ],
   "source": [
    "print(M)"
   ]
  },
  {
   "cell_type": "markdown",
   "metadata": {},
   "source": [
    "# Алгоритм Хелда-Карпа"
   ]
  },
  {
   "cell_type": "code",
   "execution_count": 192,
   "metadata": {},
   "outputs": [],
   "source": [
    "def held_karp(dists):\n",
    "    n = len(dists)\n",
    "    # Мэпим каждый набор вершин с путём, который нужно пройти до этого подмножества, а также с предыдущей вершиной. \n",
    "    # Наборы вершин представлены битами\n",
    "    C = {}\n",
    "    # Задаём пути до каждой вершины из первой вершины\n",
    "    for k in range(1, n):\n",
    "        C[(1 << k, k)] = (dists[0][k], 0)\n",
    "    # Проходим по всем длинам и наборам и запоминаем промежуточные результаты\n",
    "    for subset_size in range(2, n):\n",
    "        for subset in itertools.combinations(range(1, n), subset_size):\n",
    "            # Задаём биты для всех вершин в наборе\n",
    "            bits = 0\n",
    "            for bit in subset:\n",
    "                bits |= 1 << bit\n",
    "            # Ищем наименьший путь, чтобы добраться до набора\n",
    "            for k in subset:\n",
    "                prev = bits & ~(1 << k)\n",
    "                res = []\n",
    "                for m in subset:\n",
    "                    if m == 0 or m == k:\n",
    "                        continue\n",
    "                    res.append((C[(prev, m)][0] + dists[m][k], m))\n",
    "                C[(bits, k)] = min(res)\n",
    "    bits = (2**n - 1) - 1\n",
    "    # Ищем наименьший путь\n",
    "    res = []\n",
    "    for k in range(1, n):\n",
    "        res.append((C[(bits, k)][0] + dists[k][0], k))\n",
    "    opt, parent = min(res)\n",
    "    # Движемся в обратном направлении, чтобы восстановить весь путь\n",
    "    path = []\n",
    "    for i in range(n - 1):\n",
    "        path.append(parent)\n",
    "        new_bits = bits & ~(1 << parent)\n",
    "        _, parent = C[(bits, parent)]\n",
    "        bits = new_bits\n",
    "    # Добавляем начальную вершину\n",
    "    path.append(0)\n",
    "    path=list(reversed(path))\n",
    "    path.append(0)\n",
    "    return opt, path"
   ]
  },
  {
   "cell_type": "markdown",
   "metadata": {},
   "source": [
    "## Сравнение результатов функционального и классического подходов создания матрицы"
   ]
  },
  {
   "cell_type": "code",
   "execution_count": 198,
   "metadata": {},
   "outputs": [],
   "source": [
    "dists=M\n",
    "dist, zakazi = held_karp(dists)"
   ]
  },
  {
   "cell_type": "code",
   "execution_count": 199,
   "metadata": {},
   "outputs": [
    {
     "name": "stdout",
     "output_type": "stream",
     "text": [
      "1320.8\n"
     ]
    }
   ],
   "source": [
    "print(dist)"
   ]
  },
  {
   "cell_type": "code",
   "execution_count": 200,
   "metadata": {},
   "outputs": [],
   "source": [
    "dists=M1\n",
    "dist, zakazi = held_karp(dists)"
   ]
  },
  {
   "cell_type": "code",
   "execution_count": 201,
   "metadata": {},
   "outputs": [
    {
     "name": "stdout",
     "output_type": "stream",
     "text": [
      "1320.8\n"
     ]
    }
   ],
   "source": [
    "print(dist)"
   ]
  },
  {
   "cell_type": "markdown",
   "metadata": {},
   "source": [
    "# Подготовка данных к полному перебору"
   ]
  },
  {
   "cell_type": "markdown",
   "metadata": {},
   "source": [
    "### Функциональный подход"
   ]
  },
  {
   "cell_type": "code",
   "execution_count": 203,
   "metadata": {},
   "outputs": [],
   "source": [
    "vertexes=list(range(1, N+1))\n",
    "temp=list(itertools.permutations(vertexes))\n",
    "def creation(i,t):\n",
    "    if(i>0):\n",
    "        return [[0]+list(t[i])+[0]]+creation(i-1,t)\n",
    "    else: \n",
    "        return  [[0]+list(t[0])+[0]]"
   ]
  },
  {
   "cell_type": "code",
   "execution_count": 204,
   "metadata": {},
   "outputs": [],
   "source": [
    "p=len(temp)-1\n",
    "routes=creation(p,temp)"
   ]
  },
  {
   "cell_type": "markdown",
   "metadata": {},
   "source": [
    "# Полный перебор"
   ]
  },
  {
   "cell_type": "markdown",
   "metadata": {},
   "source": [
    "### Классический подход"
   ]
  },
  {
   "cell_type": "code",
   "execution_count": 210,
   "metadata": {},
   "outputs": [
    {
     "name": "stdout",
     "output_type": "stream",
     "text": [
      "1320.8 [0, 5, 2, 1, 4, 3, 0]\n"
     ]
    }
   ],
   "source": [
    "min_cost=0\n",
    "min_route=routes[0]\n",
    "for j in range(0,len(routes[0])-1):\n",
    "    min_cost+=M[routes[0][j]][routes[0][j+1]]\n",
    "for i in routes:\n",
    "    cost=0;\n",
    "    for j in range(0,len(i)-1):\n",
    "        cost+=M[i[j]][i[j+1]]\n",
    "    if(cost<min_cost):\n",
    "        min_cost=cost;\n",
    "        min_route=i;\n",
    "print(min_cost, min_route)"
   ]
  },
  {
   "cell_type": "markdown",
   "metadata": {},
   "source": [
    "### Функциональный подход"
   ]
  },
  {
   "cell_type": "code",
   "execution_count": 211,
   "metadata": {},
   "outputs": [],
   "source": [
    "length=len(routes)\n",
    "def DIST(M,route):\n",
    "    if (len(route)>1):\n",
    "        return M[route[0]][route[1]]+DIST(M,route[1:])\n",
    "    if(len(route)==1):\n",
    "        return 0\n",
    "def MIN_2ROUTE(M,route1,route2):\n",
    "    if(DIST(M,route1)>=DIST(M,route2)):\n",
    "        return route2\n",
    "    else:\n",
    "        return route1"
   ]
  },
  {
   "cell_type": "code",
   "execution_count": 212,
   "metadata": {},
   "outputs": [],
   "source": [
    "def MIN_ROUTE(M,Routes):\n",
    "    if (len(Routes)>1):\n",
    "        return MIN_2ROUTE(M,Routes[0],MIN_ROUTE(M,Routes[1:]))\n",
    "    else:\n",
    "        return Routes[0]         "
   ]
  },
  {
   "cell_type": "code",
   "execution_count": 213,
   "metadata": {},
   "outputs": [],
   "source": [
    "route=MIN_ROUTE(M,routes)"
   ]
  },
  {
   "cell_type": "code",
   "execution_count": 214,
   "metadata": {},
   "outputs": [
    {
     "name": "stdout",
     "output_type": "stream",
     "text": [
      "[0, 3, 4, 1, 2, 5, 0]\n"
     ]
    }
   ],
   "source": [
    "print(route)"
   ]
  },
  {
   "cell_type": "code",
   "execution_count": 215,
   "metadata": {},
   "outputs": [
    {
     "name": "stdout",
     "output_type": "stream",
     "text": [
      "1320.8\n"
     ]
    }
   ],
   "source": [
    "print(DIST(M,route))"
   ]
  }
 ],
 "metadata": {
  "kernelspec": {
   "display_name": "Python 3",
   "language": "python",
   "name": "python3"
  },
  "language_info": {
   "codemirror_mode": {
    "name": "ipython",
    "version": 3
   },
   "file_extension": ".py",
   "mimetype": "text/x-python",
   "name": "python",
   "nbconvert_exporter": "python",
   "pygments_lexer": "ipython3",
   "version": "3.8.3"
  }
 },
 "nbformat": 4,
 "nbformat_minor": 4
}
